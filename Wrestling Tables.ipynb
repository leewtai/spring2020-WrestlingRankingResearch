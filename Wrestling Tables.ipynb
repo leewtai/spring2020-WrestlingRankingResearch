{
 "cells": [
  {
   "cell_type": "code",
   "execution_count": 1,
   "metadata": {},
   "outputs": [],
   "source": [
    "import pandas as pd"
   ]
  },
  {
   "cell_type": "code",
   "execution_count": 2,
   "metadata": {},
   "outputs": [],
   "source": [
    "# location from which scraped data will be retrieved\n",
    "INPUT_FILE = './ScrapedMatchData/match_info_{}.json'"
   ]
  },
  {
   "cell_type": "code",
   "execution_count": 3,
   "metadata": {},
   "outputs": [],
   "source": [
    "# retrieve number of files\n",
    "with open('./ScrapedMatchData/NumFiles.txt','r') as NumFile:\n",
    "    number_of_files = int(NumFile.read())"
   ]
  },
  {
   "cell_type": "code",
   "execution_count": 4,
   "metadata": {},
   "outputs": [],
   "source": [
    "# store all file names\n",
    "file_names = [INPUT_FILE.format(i) for i in range(1,number_of_files+1)]"
   ]
  },
  {
   "cell_type": "code",
   "execution_count": null,
   "metadata": {},
   "outputs": [],
   "source": [
    "# try to find out what each element represents\n",
    "\n",
    "# Unsure about 0th element\n",
    "# 1st element is weight class\n",
    "# 3rd/4th elements are type of victory (fall, decision, etc.)\n",
    "# 7th element is winner's score, 10th element is loser score\n",
    "# 16th thru 23rd elements are winner's and loser's names and schools\n",
    "# 31st element is round of match if tournament (quarterfinals, semifinals, etc.)\n",
    "# appended last 3 entries to be event Name, event Id, and dual Id"
   ]
  },
  {
   "cell_type": "code",
   "execution_count": 5,
   "metadata": {},
   "outputs": [],
   "source": [
    "# load all match data into one dataframe (takes a minute)\n",
    "frames = [pd.read_json(file_name) for file_name in file_names]\n",
    "all_match_data = pd.concat(frames)"
   ]
  },
  {
   "cell_type": "code",
   "execution_count": 6,
   "metadata": {},
   "outputs": [],
   "source": [
    "all_match_data.to_csv('All Match Data')"
   ]
  },
  {
   "cell_type": "code",
   "execution_count": null,
   "metadata": {},
   "outputs": [],
   "source": [
    "# rows do not all line up, kinda sucks"
   ]
  },
  {
   "cell_type": "code",
   "execution_count": null,
   "metadata": {},
   "outputs": [],
   "source": [
    "all_match_data.shape"
   ]
  },
  {
   "cell_type": "code",
   "execution_count": null,
   "metadata": {},
   "outputs": [],
   "source": [
    "# Rename columns we know by inspection\n",
    "all_match_data.rename(columns={1:\"Weight Class\", 3:\"Victory Type (L)\", 4:\"Victory Type (S)\",\n",
    "                         7:\"Winner Score\", 10:\"Loser Score\", 16:\"Winner First Name\",\n",
    "                         17:\"Winner Last Name\", 18:\"Winner School (L)\", 19:\"Winner School (S)\",\n",
    "                         20:\"Loser First Name\", 21:\"Loser Last Name\", 22:\"Loser School (L)\",\n",
    "                         23:\"Loser School (S)\", 31:\"Round\", 42:\"Event Name\", 43:\"Event ID\", 44:\"Dual ID\"},\n",
    "                      inplace=True\n",
    "                    )"
   ]
  },
  {
   "cell_type": "code",
   "execution_count": null,
   "metadata": {},
   "outputs": [],
   "source": [
    "# random sample rows for testing (random_state=1  for reproducibility)\n",
    "sample = all_match_data.sample(n=20,random_state=1)"
   ]
  },
  {
   "cell_type": "code",
   "execution_count": null,
   "metadata": {},
   "outputs": [],
   "source": [
    "col_1_bool = sample[\"Weight Class\"] == \"N\""
   ]
  },
  {
   "cell_type": "code",
   "execution_count": null,
   "metadata": {},
   "outputs": [],
   "source": [
    "sample[col_1_bool].drop(columns=\"Weight Class\",inplace=True)\n",
    "sample"
   ]
  },
  {
   "cell_type": "code",
   "execution_count": null,
   "metadata": {},
   "outputs": [],
   "source": []
  }
 ],
 "metadata": {
  "kernelspec": {
   "display_name": "Python 3",
   "language": "python",
   "name": "python3"
  },
  "language_info": {
   "codemirror_mode": {
    "name": "ipython",
    "version": 3
   },
   "file_extension": ".py",
   "mimetype": "text/x-python",
   "name": "python",
   "nbconvert_exporter": "python",
   "pygments_lexer": "ipython3",
   "version": "3.7.6"
  }
 },
 "nbformat": 4,
 "nbformat_minor": 4
}
