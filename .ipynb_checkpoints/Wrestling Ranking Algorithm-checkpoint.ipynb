{
 "cells": [
  {
   "cell_type": "code",
   "execution_count": 1,
   "metadata": {},
   "outputs": [],
   "source": [
    "import pandas as pd"
   ]
  },
  {
   "cell_type": "code",
   "execution_count": 29,
   "metadata": {},
   "outputs": [],
   "source": [
    "# Load in matches and wrestlers dataframes\n",
    "MATCHES = pd.read_csv('MATCHES.csv').drop(['Unnamed: 0'],axis=1)\n",
    "WRESTLERS = pd.read_csv('WRESTLERS.csv').drop(['Unnamed: 0'],axis=1)"
   ]
  },
  {
   "cell_type": "code",
   "execution_count": 30,
   "metadata": {},
   "outputs": [
    {
     "data": {
      "text/plain": [
       "(14114, 19)"
      ]
     },
     "execution_count": 30,
     "metadata": {},
     "output_type": "execute_result"
    }
   ],
   "source": [
    "MATCHES.shape # number of matches, recorded match variables"
   ]
  },
  {
   "cell_type": "code",
   "execution_count": 31,
   "metadata": {},
   "outputs": [
    {
     "data": {
      "text/plain": [
       "Index(['Weight Class', 'Victory Type (L)', 'Victory Type (S)', 'Winner Score',\n",
       "       'Loser Score', 'Winner First Name', 'Winner Last Name',\n",
       "       'Winner School (L)', 'Winner School (S)', 'Loser First Name',\n",
       "       'Loser Last Name', 'Loser School (L)', 'Loser School (S)',\n",
       "       'Unknown (Seed?)', 'Round', 'Event Name', 'Event ID',\n",
       "       'Winner Full Name', 'Loser Full Name'],\n",
       "      dtype='object')"
      ]
     },
     "execution_count": 31,
     "metadata": {},
     "output_type": "execute_result"
    }
   ],
   "source": [
    "MATCHES.columns"
   ]
  },
  {
   "cell_type": "code",
   "execution_count": 32,
   "metadata": {},
   "outputs": [
    {
     "data": {
      "text/plain": [
       "(3915, 9)"
      ]
     },
     "execution_count": 32,
     "metadata": {},
     "output_type": "execute_result"
    }
   ],
   "source": [
    "WRESTLERS.shape # number of wrestlers, recorded wrestler variables"
   ]
  },
  {
   "cell_type": "code",
   "execution_count": 33,
   "metadata": {},
   "outputs": [
    {
     "data": {
      "text/plain": [
       "Index(['First Name', 'Last Name', 'Full Name', 'School Name', 'School Code',\n",
       "       'Weight Class', 'Wins', 'Losses', 'Matches'],\n",
       "      dtype='object')"
      ]
     },
     "execution_count": 33,
     "metadata": {},
     "output_type": "execute_result"
    }
   ],
   "source": [
    "WRESTLERS.columns"
   ]
  },
  {
   "cell_type": "code",
   "execution_count": 34,
   "metadata": {},
   "outputs": [
    {
     "data": {
      "text/html": [
       "<div>\n",
       "<style scoped>\n",
       "    .dataframe tbody tr th:only-of-type {\n",
       "        vertical-align: middle;\n",
       "    }\n",
       "\n",
       "    .dataframe tbody tr th {\n",
       "        vertical-align: top;\n",
       "    }\n",
       "\n",
       "    .dataframe thead th {\n",
       "        text-align: right;\n",
       "    }\n",
       "</style>\n",
       "<table border=\"1\" class=\"dataframe\">\n",
       "  <thead>\n",
       "    <tr style=\"text-align: right;\">\n",
       "      <th></th>\n",
       "      <th>First Name</th>\n",
       "      <th>Last Name</th>\n",
       "      <th>Full Name</th>\n",
       "      <th>School Name</th>\n",
       "      <th>School Code</th>\n",
       "      <th>Weight Class</th>\n",
       "      <th>Wins</th>\n",
       "      <th>Losses</th>\n",
       "      <th>Matches</th>\n",
       "    </tr>\n",
       "  </thead>\n",
       "  <tbody>\n",
       "    <tr>\n",
       "      <th>0</th>\n",
       "      <td>Jose</td>\n",
       "      <td>Ortiz</td>\n",
       "      <td>Jose Ortiz</td>\n",
       "      <td>Inwood Academy HS-PSAL</td>\n",
       "      <td>INW</td>\n",
       "      <td>106</td>\n",
       "      <td>0</td>\n",
       "      <td>2</td>\n",
       "      <td>2</td>\n",
       "    </tr>\n",
       "    <tr>\n",
       "      <th>1</th>\n",
       "      <td>Donnasis</td>\n",
       "      <td>George</td>\n",
       "      <td>Donnasis George</td>\n",
       "      <td>Xavier</td>\n",
       "      <td>XAVI</td>\n",
       "      <td>182</td>\n",
       "      <td>6</td>\n",
       "      <td>6</td>\n",
       "      <td>12</td>\n",
       "    </tr>\n",
       "    <tr>\n",
       "      <th>2</th>\n",
       "      <td>Grant</td>\n",
       "      <td>Johnston</td>\n",
       "      <td>Grant Johnston</td>\n",
       "      <td>Canandaigua Academy</td>\n",
       "      <td>CAAC</td>\n",
       "      <td>160</td>\n",
       "      <td>0</td>\n",
       "      <td>7</td>\n",
       "      <td>7</td>\n",
       "    </tr>\n",
       "    <tr>\n",
       "      <th>3</th>\n",
       "      <td>Chris</td>\n",
       "      <td>Powell</td>\n",
       "      <td>Chris Powell</td>\n",
       "      <td>Centereach</td>\n",
       "      <td>CENT</td>\n",
       "      <td>285</td>\n",
       "      <td>4</td>\n",
       "      <td>9</td>\n",
       "      <td>13</td>\n",
       "    </tr>\n",
       "    <tr>\n",
       "      <th>4</th>\n",
       "      <td>Marlon</td>\n",
       "      <td>Quintanilla</td>\n",
       "      <td>Marlon Quintanilla</td>\n",
       "      <td>West Babylon Sr HS</td>\n",
       "      <td>WBSH</td>\n",
       "      <td>195</td>\n",
       "      <td>0</td>\n",
       "      <td>3</td>\n",
       "      <td>3</td>\n",
       "    </tr>\n",
       "    <tr>\n",
       "      <th>...</th>\n",
       "      <td>...</td>\n",
       "      <td>...</td>\n",
       "      <td>...</td>\n",
       "      <td>...</td>\n",
       "      <td>...</td>\n",
       "      <td>...</td>\n",
       "      <td>...</td>\n",
       "      <td>...</td>\n",
       "      <td>...</td>\n",
       "    </tr>\n",
       "    <tr>\n",
       "      <th>3910</th>\n",
       "      <td>Darryl</td>\n",
       "      <td>Harris</td>\n",
       "      <td>Darryl Harris</td>\n",
       "      <td>Grand Street Campus-PSAL</td>\n",
       "      <td>GSCP</td>\n",
       "      <td>195</td>\n",
       "      <td>5</td>\n",
       "      <td>6</td>\n",
       "      <td>11</td>\n",
       "    </tr>\n",
       "    <tr>\n",
       "      <th>3911</th>\n",
       "      <td>Jayshon</td>\n",
       "      <td>Hines</td>\n",
       "      <td>Jayshon Hines</td>\n",
       "      <td>North Babylon Sr High Sch</td>\n",
       "      <td>NBSH</td>\n",
       "      <td>220</td>\n",
       "      <td>7</td>\n",
       "      <td>2</td>\n",
       "      <td>9</td>\n",
       "    </tr>\n",
       "    <tr>\n",
       "      <th>3912</th>\n",
       "      <td>Alex</td>\n",
       "      <td>Kowalski</td>\n",
       "      <td>Alex Kowalski</td>\n",
       "      <td>Frontier Sr</td>\n",
       "      <td>FRSR</td>\n",
       "      <td>126</td>\n",
       "      <td>3</td>\n",
       "      <td>7</td>\n",
       "      <td>10</td>\n",
       "    </tr>\n",
       "    <tr>\n",
       "      <th>3913</th>\n",
       "      <td>Oscar</td>\n",
       "      <td>Contreras</td>\n",
       "      <td>Oscar Contreras</td>\n",
       "      <td>Lafayette Campus - PSAL</td>\n",
       "      <td>LAF</td>\n",
       "      <td>132</td>\n",
       "      <td>4</td>\n",
       "      <td>0</td>\n",
       "      <td>4</td>\n",
       "    </tr>\n",
       "    <tr>\n",
       "      <th>3914</th>\n",
       "      <td>Shane</td>\n",
       "      <td>Acheson</td>\n",
       "      <td>Shane Acheson</td>\n",
       "      <td>Tappan Zee</td>\n",
       "      <td>TAZE</td>\n",
       "      <td>106</td>\n",
       "      <td>0</td>\n",
       "      <td>10</td>\n",
       "      <td>10</td>\n",
       "    </tr>\n",
       "  </tbody>\n",
       "</table>\n",
       "<p>3915 rows × 9 columns</p>\n",
       "</div>"
      ],
      "text/plain": [
       "     First Name    Last Name           Full Name                School Name  \\\n",
       "0          Jose        Ortiz          Jose Ortiz     Inwood Academy HS-PSAL   \n",
       "1      Donnasis       George     Donnasis George                     Xavier   \n",
       "2         Grant     Johnston      Grant Johnston        Canandaigua Academy   \n",
       "3         Chris       Powell        Chris Powell                 Centereach   \n",
       "4        Marlon  Quintanilla  Marlon Quintanilla         West Babylon Sr HS   \n",
       "...         ...          ...                 ...                        ...   \n",
       "3910     Darryl       Harris       Darryl Harris   Grand Street Campus-PSAL   \n",
       "3911    Jayshon        Hines       Jayshon Hines  North Babylon Sr High Sch   \n",
       "3912       Alex     Kowalski       Alex Kowalski                Frontier Sr   \n",
       "3913      Oscar    Contreras     Oscar Contreras    Lafayette Campus - PSAL   \n",
       "3914      Shane      Acheson       Shane Acheson                 Tappan Zee   \n",
       "\n",
       "     School Code  Weight Class  Wins  Losses  Matches  \n",
       "0            INW           106     0       2        2  \n",
       "1           XAVI           182     6       6       12  \n",
       "2           CAAC           160     0       7        7  \n",
       "3           CENT           285     4       9       13  \n",
       "4           WBSH           195     0       3        3  \n",
       "...          ...           ...   ...     ...      ...  \n",
       "3910        GSCP           195     5       6       11  \n",
       "3911        NBSH           220     7       2        9  \n",
       "3912        FRSR           126     3       7       10  \n",
       "3913         LAF           132     4       0        4  \n",
       "3914        TAZE           106     0      10       10  \n",
       "\n",
       "[3915 rows x 9 columns]"
      ]
     },
     "execution_count": 34,
     "metadata": {},
     "output_type": "execute_result"
    }
   ],
   "source": [
    "WRESTLERS"
   ]
  },
  {
   "cell_type": "code",
   "execution_count": null,
   "metadata": {},
   "outputs": [],
   "source": []
  }
 ],
 "metadata": {
  "kernelspec": {
   "display_name": "Python 3",
   "language": "python",
   "name": "python3"
  },
  "language_info": {
   "codemirror_mode": {
    "name": "ipython",
    "version": 3
   },
   "file_extension": ".py",
   "mimetype": "text/x-python",
   "name": "python",
   "nbconvert_exporter": "python",
   "pygments_lexer": "ipython3",
   "version": "3.7.6"
  }
 },
 "nbformat": 4,
 "nbformat_minor": 4
}
