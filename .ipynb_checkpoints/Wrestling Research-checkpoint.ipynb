{
 "cells": [
  {
   "cell_type": "code",
   "execution_count": 1,
   "metadata": {},
   "outputs": [],
   "source": [
    "import json\n",
    "import requests\n",
    "from bs4 import BeautifulSoup\n",
    "\n",
    "import re\n",
    "\n",
    "import pickle\n",
    "from selenium import webdriver\n",
    "\n",
    "import pandas as pd\n",
    "\n",
    "from random import uniform\n",
    "from time import sleep"
   ]
  },
  {
   "cell_type": "code",
   "execution_count": null,
   "metadata": {},
   "outputs": [],
   "source": [
    "WRESTLING_URL = 'https://www.trackwrestling.com'"
   ]
  },
  {
   "cell_type": "code",
   "execution_count": null,
   "metadata": {},
   "outputs": [],
   "source": [
    "### this function is currently unused\n",
    "\n",
    "def cookie_parser(cookie_string):\n",
    "    ''' \n",
    "    Takes in cookie_string from webpage network request headers and reformats it \n",
    "    in dictionary form for use as requests.get() cookies parameter\n",
    "    '''\n",
    "    \n",
    "    # Create empty dictionary \n",
    "    cookie_dict = {}\n",
    "    \n",
    "    # Extracts key-value pairs\n",
    "    cookie_keys_and_vals = cookie_string.split(';')\n",
    "    \n",
    "    # Separates each key and value from its pair and inserts them into cookie_dict dictionary\n",
    "    for cookie in cookie_keys_and_vals:\n",
    "        \n",
    "        split_pair = cookie.split('=',maxsplit=1) # set maxsplit to avoid '=' in cookie value\n",
    "        cookie_name = split_pair[0].strip() # strip() removes leading/ending whitespace\n",
    "        \n",
    "        # Look for cookie names with no values\n",
    "        if len(split_pair)==2:\n",
    "            cookie_value = split_pair[1].strip()\n",
    "        else:\n",
    "            cookie_value = ''\n",
    "        \n",
    "        # Adds cookie to dictionary\n",
    "        cookie_dict[cookie_name] = cookie_value\n",
    "        \n",
    "    return(cookie_dict)"
   ]
  },
  {
   "cell_type": "code",
   "execution_count": null,
   "metadata": {},
   "outputs": [],
   "source": [
    "### Notes:\n",
    "# Events page caps at 250 events, which is roughly the last week. Can't keep scrolling like the indeed page number code\n",
    "# Maybe need to send specific search params by date?\n",
    "# For now can send javascript command \"defaultGrid.nextX()\" to advance through the 5 pages (openEvent count doesn't reset!)\n",
    "# Later, try to send input to show all 250 events and not have to click thru the 5 pages. Maxlength par?\n",
    "# unrelated: found creation of TIM parameter in code: TIM=\"+Math.floor(Math.random()*100000)"
   ]
  },
  {
   "cell_type": "code",
   "execution_count": null,
   "metadata": {},
   "outputs": [],
   "source": []
  },
  {
   "cell_type": "code",
   "execution_count": 2,
   "metadata": {},
   "outputs": [
    {
     "ename": "NameError",
     "evalue": "name 'WRESTLING_URL' is not defined",
     "output_type": "error",
     "traceback": [
      "\u001b[1;31m---------------------------------------------------------------------------\u001b[0m",
      "\u001b[1;31mNameError\u001b[0m                                 Traceback (most recent call last)",
      "\u001b[1;32m<ipython-input-2-d2981b0c0f6d>\u001b[0m in \u001b[0;36m<module>\u001b[1;34m\u001b[0m\n\u001b[0;32m      4\u001b[0m \u001b[0mdriver\u001b[0m \u001b[1;33m=\u001b[0m \u001b[0mwebdriver\u001b[0m\u001b[1;33m.\u001b[0m\u001b[0mFirefox\u001b[0m\u001b[1;33m(\u001b[0m\u001b[1;33m)\u001b[0m\u001b[1;33m\u001b[0m\u001b[1;33m\u001b[0m\u001b[0m\n\u001b[0;32m      5\u001b[0m \u001b[0mdriver\u001b[0m\u001b[1;33m.\u001b[0m\u001b[0mimplicitly_wait\u001b[0m\u001b[1;33m(\u001b[0m\u001b[1;36m1.5\u001b[0m\u001b[1;33m)\u001b[0m \u001b[1;31m# force wait time (need to check documentation)\u001b[0m\u001b[1;33m\u001b[0m\u001b[1;33m\u001b[0m\u001b[0m\n\u001b[1;32m----> 6\u001b[1;33m \u001b[0mdriver\u001b[0m\u001b[1;33m.\u001b[0m\u001b[0mget\u001b[0m\u001b[1;33m(\u001b[0m\u001b[0mWRESTLING_URL\u001b[0m\u001b[1;33m)\u001b[0m\u001b[1;33m\u001b[0m\u001b[1;33m\u001b[0m\u001b[0m\n\u001b[0m",
      "\u001b[1;31mNameError\u001b[0m: name 'WRESTLING_URL' is not defined"
     ]
    }
   ],
   "source": [
    "### Remote browsing through selenium\n",
    "### MAKE SURE TO USE SLEEP SO YOU DON'T GET BLOCKED!!!\n",
    "\n",
    "driver = webdriver.Firefox()\n",
    "driver.implicitly_wait(1.5) # force wait time (need to check documentation)\n",
    "driver.get(WRESTLING_URL)"
   ]
  },
  {
   "cell_type": "code",
   "execution_count": null,
   "metadata": {},
   "outputs": [],
   "source": [
    "### Following cells navigate from trackwrestling landing page to New York State events pages"
   ]
  },
  {
   "cell_type": "code",
   "execution_count": null,
   "metadata": {},
   "outputs": [],
   "source": [
    "driver.execute_script(\"displayMenu('subMenu-browse', 'left', 1, 'Browse')\")\n",
    "#sleep(1)"
   ]
  },
  {
   "cell_type": "code",
   "execution_count": null,
   "metadata": {},
   "outputs": [],
   "source": [
    "driver.execute_script(\"displayMenu('subMenu-seasons', 'left', 2, 'Seasons')\")\n",
    "#sleep(1)"
   ]
  },
  {
   "cell_type": "code",
   "execution_count": null,
   "metadata": {},
   "outputs": [],
   "source": [
    "driver.execute_script(\"displayMenu('subMenu-seasonOrganizeBy_1428400132', 'left', 3, '2019-20 High School Boys')\")\n",
    "#sleep(5)"
   ]
  },
  {
   "cell_type": "code",
   "execution_count": null,
   "metadata": {},
   "outputs": [],
   "source": [
    "driver.execute_script(\"gotoBuildURLPage('seasons/LoadBalance.jsp?seasonId=1428400132&gbId=38&uname=&pword=')\")\n",
    "#sleep(3)"
   ]
  },
  {
   "cell_type": "code",
   "execution_count": null,
   "metadata": {},
   "outputs": [],
   "source": []
  },
  {
   "cell_type": "code",
   "execution_count": null,
   "metadata": {},
   "outputs": [],
   "source": [
    "### Save cookies\n",
    "pickle.dump(driver.get_cookies(), open(\"cookies.pkl\",\"wb\"))"
   ]
  },
  {
   "cell_type": "code",
   "execution_count": null,
   "metadata": {},
   "outputs": [],
   "source": [
    "### Add cookies for page access\n",
    "cookies = pickle.load(open(\"cookies.pkl\", \"rb\"))\n",
    "for cookie in cookies:\n",
    "    driver.add_cookie(cookie)"
   ]
  },
  {
   "cell_type": "code",
   "execution_count": null,
   "metadata": {},
   "outputs": [],
   "source": [
    "### Extract url endpoints from opened event soup object\n",
    "### Loop thru and open each url endpoint\n",
    "### \n",
    "### \n",
    "### \n",
    "### \n",
    "\n",
    "for i in range(52,53): # check number of elements on page by default\n",
    "    \n",
    "    # openEvent(i) either opens the match results in new window or opens a new alert/frame to pick a specific team\n",
    "    #driver.switch_to.default_content\n",
    "    driver.switch_to.frame('PageFrame')\n",
    "    driver.execute_script(\"openEvent({})\".format(i))\n",
    "    sleep(uniform(0.5,1.0))\n",
    "    \n",
    "    if len(driver.window_handles) == 1: # alert/frame opened; need to loop through various teams\n",
    "        \n",
    "        frame_html = driver.execute_script(\"return document.documentElement.outerHTML\")\n",
    "        frame_soup = BeautifulSoup(frame_html,'html.parser')\n",
    "        \n",
    "        all_links = [str(link.get('href')) for link in frame_soup.find_all('a')]\n",
    "        max_link_length = max(map(len,all_links)) # the links we want will always be the longest in the page\n",
    "        team_links = [link for link in all_links if len(link)==max_link_length]\n",
    "        sleep(uniform(0.5,1.0))\n",
    "        \n",
    "        for link in team_links: \n",
    "                        \n",
    "            driver.get(WRESTLING_URL+'/seasons/'+link)\n",
    "            sleep(uniform(0.5,1.0))\n",
    "            \n",
    "            match_html = driver.execute_script(\"return document.documentElement.outerHTML\")\n",
    "            \n",
    "            # compile regex for elements we want to find\n",
    "            initDataGrid_regex = re.compile(r'initDataGrid\\(1000, false, \\\"(.*\\]\\])')\n",
    "            eventName_regex = re.compile(r'drawPageHeader\\(\\\"(.*)\\\"\\)')\n",
    "            eventId_regex = re.compile(r'eventId=(.*)&')\n",
    "            teamId_regex = re.compile(r'teamId=(.*)')\n",
    "\n",
    "            eventName = eventName_regex.findall(match_html)\n",
    "            teamId = teamId_regex.findall(link)\n",
    "            eventId = eventId_regex.findall(link)\n",
    "            \n",
    "            match_data = initDataGrid_regex.findall(match_html)[0]\n",
    "            match_data = re.sub(r'\\\\','',match_data)\n",
    "            match_data_list = json.loads(match_data)\n",
    "            \n",
    "            \n",
    "            break\n",
    "        \n",
    "    else: # match info opened in new window\n",
    "        \n",
    "        driver.switch_to.window(driver.window_handles[1])\n",
    "        sleep(uniform(0.5,1.0))\n",
    "            \n",
    "        match_html = driver.execute_script(\"return document.documentElement.outerHTML\")\n",
    "        link = driver.current_url\n",
    "        \n",
    "        # compile regex (note that these are just two-team duals, not multi-team events)\n",
    "        initDataGrid_regex = re.compile(r'initDataGrid\\(1000, false, \\\"(.*\\]\\])')\n",
    "        eventName_regex = re.compile(r'drawPageHeader\\(\\\"(.*)\\(')\n",
    "        dualId_regex = re.compile(r'dualId=(.*)&')\n",
    "        teamId_regex = re.compile(r'teamId=(.*)')\n",
    "\n",
    "        eventName = eventName_regex.findall(match_html).strip()\n",
    "        teamId = teamId_regex.findall(link)\n",
    "        dualId = eventId_regex.findall(link)\n",
    "        \n",
    "        match_data = initDataGrid_regex.findall(match_html)[0]\n",
    "        match_data = re.sub(r'\\\\','',match_data)\n",
    "        match_data_list = json.loads(match_data)\n",
    "        \n",
    "        #driver.close()\n"
   ]
  },
  {
   "cell_type": "code",
   "execution_count": null,
   "metadata": {},
   "outputs": [],
   "source": []
  },
  {
   "cell_type": "code",
   "execution_count": null,
   "metadata": {},
   "outputs": [],
   "source": [
    "match_data_list[0] # try to find out what each element represents\n",
    "\n",
    "# Unsure about 0th element\n",
    "# 1st element is weight class\n",
    "# 3rd/4th elements are type of victory (fall, decision, etc.)\n",
    "# 7th element is loser's score, 10th element is winner score\n",
    "# 16th thru 23rd elements are winner's and loser's names and schools\n",
    "# 31st element is round of match if tournament (quarterfinals, semifinals, etc.)"
   ]
  },
  {
   "cell_type": "code",
   "execution_count": null,
   "metadata": {},
   "outputs": [],
   "source": []
  },
  {
   "cell_type": "code",
   "execution_count": 3,
   "metadata": {},
   "outputs": [],
   "source": []
  },
  {
   "cell_type": "code",
   "execution_count": null,
   "metadata": {},
   "outputs": [],
   "source": []
  }
 ],
 "metadata": {
  "kernelspec": {
   "display_name": "Python 3",
   "language": "python",
   "name": "python3"
  },
  "language_info": {
   "codemirror_mode": {
    "name": "ipython",
    "version": 3
   },
   "file_extension": ".py",
   "mimetype": "text/x-python",
   "name": "python",
   "nbconvert_exporter": "python",
   "pygments_lexer": "ipython3",
   "version": "3.7.6"
  }
 },
 "nbformat": 4,
 "nbformat_minor": 2
}
