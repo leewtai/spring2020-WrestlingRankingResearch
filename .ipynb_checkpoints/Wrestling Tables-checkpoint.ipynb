{
 "cells": [
  {
   "cell_type": "code",
   "execution_count": 1,
   "metadata": {},
   "outputs": [],
   "source": [
    "import pandas as pd"
   ]
  },
  {
   "cell_type": "code",
   "execution_count": 2,
   "metadata": {},
   "outputs": [],
   "source": [
    "# location from which scraped data will be retrieved\n",
    "INPUT_FILE = './ScrapedMatchData/match_info_{}.json'"
   ]
  },
  {
   "cell_type": "code",
   "execution_count": 3,
   "metadata": {},
   "outputs": [],
   "source": [
    "# retrieve number of files\n",
    "with open('./ScrapedMatchData/NumFiles.txt','r') as NumFile:\n",
    "    number_of_files = int(NumFile.read())"
   ]
  },
  {
   "cell_type": "code",
   "execution_count": 4,
   "metadata": {},
   "outputs": [],
   "source": [
    "# store all file names\n",
    "file_names = [INPUT_FILE.format(i) for i in range(1,number_of_files+1)]"
   ]
  },
  {
   "cell_type": "code",
   "execution_count": 5,
   "metadata": {},
   "outputs": [],
   "source": [
    "# try to find out what each element represents\n",
    "\n",
    "# Unsure about 0th element\n",
    "# 1st element is weight class\n",
    "# 3rd/4th elements are type of victory (fall, decision, etc.)\n",
    "# 7th element is winner's score, 10th element is loser score\n",
    "# 16th thru 23rd elements are winner's and loser's names and schools\n",
    "# 31st element is round of match if tournament (quarterfinals, semifinals, etc.)\n",
    "# 40th element is numbers 1-16, or nan/none, could be tournament seed?\n",
    "# appended last 3 entries to be event Name, event Id, and dual Id"
   ]
  },
  {
   "cell_type": "code",
   "execution_count": 6,
   "metadata": {},
   "outputs": [],
   "source": [
    "# Load all match data into one dataframe (takes a minute)\n",
    "frames = [pd.read_json(file_name) for file_name in file_names]\n",
    "\n",
    "for i,frame in enumerate(frames,1): # preserves order of events (scraped form newest to oldest)\n",
    "    frame[\"Event Order (1=newest)\"] = i\n",
    "\n",
    "all_match_data = pd.concat(frames)"
   ]
  },
  {
   "cell_type": "code",
   "execution_count": 7,
   "metadata": {},
   "outputs": [
    {
     "data": {
      "text/html": [
       "<div>\n",
       "<style scoped>\n",
       "    .dataframe tbody tr th:only-of-type {\n",
       "        vertical-align: middle;\n",
       "    }\n",
       "\n",
       "    .dataframe tbody tr th {\n",
       "        vertical-align: top;\n",
       "    }\n",
       "\n",
       "    .dataframe thead th {\n",
       "        text-align: right;\n",
       "    }\n",
       "</style>\n",
       "<table border=\"1\" class=\"dataframe\">\n",
       "  <thead>\n",
       "    <tr style=\"text-align: right;\">\n",
       "      <th></th>\n",
       "      <th>0</th>\n",
       "      <th>1</th>\n",
       "      <th>2</th>\n",
       "      <th>3</th>\n",
       "      <th>4</th>\n",
       "      <th>5</th>\n",
       "      <th>6</th>\n",
       "      <th>7</th>\n",
       "      <th>8</th>\n",
       "      <th>9</th>\n",
       "      <th>...</th>\n",
       "      <th>36</th>\n",
       "      <th>37</th>\n",
       "      <th>38</th>\n",
       "      <th>39</th>\n",
       "      <th>40</th>\n",
       "      <th>41</th>\n",
       "      <th>42</th>\n",
       "      <th>43</th>\n",
       "      <th>44</th>\n",
       "      <th>Event Order (1=newest)</th>\n",
       "    </tr>\n",
       "  </thead>\n",
       "  <tbody>\n",
       "    <tr>\n",
       "      <th>0</th>\n",
       "      <td>21296605132</td>\n",
       "      <td>120</td>\n",
       "      <td>1</td>\n",
       "      <td>Fall</td>\n",
       "      <td>Fall</td>\n",
       "      <td>[winner] over [loser] ([wtAbbr] [fallTime])</td>\n",
       "      <td>1</td>\n",
       "      <td>0</td>\n",
       "      <td>NaN</td>\n",
       "      <td>NaN</td>\n",
       "      <td>...</td>\n",
       "      <td>N</td>\n",
       "      <td>NaN</td>\n",
       "      <td></td>\n",
       "      <td>[wtAbbr] [fallTime]</td>\n",
       "      <td>NaN</td>\n",
       "      <td>N</td>\n",
       "      <td>PSAL-D1 WRESTLING CHAMPIONSHIPS</td>\n",
       "      <td>4.998201e+09</td>\n",
       "      <td>NaN</td>\n",
       "      <td>1</td>\n",
       "    </tr>\n",
       "    <tr>\n",
       "      <th>0</th>\n",
       "      <td>21296718132</td>\n",
       "      <td>138</td>\n",
       "      <td>2</td>\n",
       "      <td>Technical Fall</td>\n",
       "      <td>TF</td>\n",
       "      <td>[winner] over [loser] ([wtAbbr] [score] [fallT...</td>\n",
       "      <td>1</td>\n",
       "      <td>16</td>\n",
       "      <td>NaN</td>\n",
       "      <td>NaN</td>\n",
       "      <td>...</td>\n",
       "      <td>N</td>\n",
       "      <td>NaN</td>\n",
       "      <td></td>\n",
       "      <td>[wtAbbr] [score] [fallTime]</td>\n",
       "      <td>NaN</td>\n",
       "      <td>N</td>\n",
       "      <td>PSAL-D1 WRESTLING CHAMPIONSHIPS</td>\n",
       "      <td>4.998201e+09</td>\n",
       "      <td>NaN</td>\n",
       "      <td>2</td>\n",
       "    </tr>\n",
       "    <tr>\n",
       "      <th>1</th>\n",
       "      <td>21292884132</td>\n",
       "      <td>220</td>\n",
       "      <td>1</td>\n",
       "      <td>Fall</td>\n",
       "      <td>Fall</td>\n",
       "      <td>[winner] over [loser] ([wtAbbr] [fallTime])</td>\n",
       "      <td>1</td>\n",
       "      <td>0</td>\n",
       "      <td>NaN</td>\n",
       "      <td>NaN</td>\n",
       "      <td>...</td>\n",
       "      <td>N</td>\n",
       "      <td>NaN</td>\n",
       "      <td></td>\n",
       "      <td>[wtAbbr] [fallTime]</td>\n",
       "      <td>NaN</td>\n",
       "      <td>N</td>\n",
       "      <td>PSAL-D1 WRESTLING CHAMPIONSHIPS</td>\n",
       "      <td>4.998201e+09</td>\n",
       "      <td>NaN</td>\n",
       "      <td>2</td>\n",
       "    </tr>\n",
       "    <tr>\n",
       "      <th>2</th>\n",
       "      <td>21288049132</td>\n",
       "      <td>220</td>\n",
       "      <td>4</td>\n",
       "      <td>Decision</td>\n",
       "      <td>Dec</td>\n",
       "      <td>[winner] over [loser] ([wtAbbr] [score])</td>\n",
       "      <td>2</td>\n",
       "      <td>1</td>\n",
       "      <td>NaN</td>\n",
       "      <td>NaN</td>\n",
       "      <td>...</td>\n",
       "      <td>N</td>\n",
       "      <td>NaN</td>\n",
       "      <td></td>\n",
       "      <td>[wtAbbr] [score]</td>\n",
       "      <td>NaN</td>\n",
       "      <td>N</td>\n",
       "      <td>PSAL-D1 WRESTLING CHAMPIONSHIPS</td>\n",
       "      <td>4.998201e+09</td>\n",
       "      <td>NaN</td>\n",
       "      <td>2</td>\n",
       "    </tr>\n",
       "    <tr>\n",
       "      <th>0</th>\n",
       "      <td>21288364132</td>\n",
       "      <td>113</td>\n",
       "      <td>1</td>\n",
       "      <td>Fall</td>\n",
       "      <td>Fall</td>\n",
       "      <td>[winner] over [loser] ([wtAbbr] [fallTime])</td>\n",
       "      <td>1</td>\n",
       "      <td>0</td>\n",
       "      <td>NaN</td>\n",
       "      <td>NaN</td>\n",
       "      <td>...</td>\n",
       "      <td>N</td>\n",
       "      <td>NaN</td>\n",
       "      <td></td>\n",
       "      <td>[wtAbbr] [fallTime]</td>\n",
       "      <td>NaN</td>\n",
       "      <td>N</td>\n",
       "      <td>PSAL-D1 WRESTLING CHAMPIONSHIPS</td>\n",
       "      <td>4.998201e+09</td>\n",
       "      <td>NaN</td>\n",
       "      <td>3</td>\n",
       "    </tr>\n",
       "    <tr>\n",
       "      <th>...</th>\n",
       "      <td>...</td>\n",
       "      <td>...</td>\n",
       "      <td>...</td>\n",
       "      <td>...</td>\n",
       "      <td>...</td>\n",
       "      <td>...</td>\n",
       "      <td>...</td>\n",
       "      <td>...</td>\n",
       "      <td>...</td>\n",
       "      <td>...</td>\n",
       "      <td>...</td>\n",
       "      <td>...</td>\n",
       "      <td>...</td>\n",
       "      <td>...</td>\n",
       "      <td>...</td>\n",
       "      <td>...</td>\n",
       "      <td>...</td>\n",
       "      <td>...</td>\n",
       "      <td>...</td>\n",
       "      <td>...</td>\n",
       "      <td>...</td>\n",
       "    </tr>\n",
       "    <tr>\n",
       "      <th>10</th>\n",
       "      <td>20620703132</td>\n",
       "      <td>N</td>\n",
       "      <td>170</td>\n",
       "      <td>15</td>\n",
       "      <td>Double Forfeit</td>\n",
       "      <td>DFF</td>\n",
       "      <td>[wtName]</td>\n",
       "      <td>0</td>\n",
       "      <td>0.0</td>\n",
       "      <td>NaN</td>\n",
       "      <td>...</td>\n",
       "      <td>NaN</td>\n",
       "      <td>NaN</td>\n",
       "      <td>N</td>\n",
       "      <td>20620703132</td>\n",
       "      <td>0</td>\n",
       "      <td>Jasper-Troupsburg vs. Campbell-Savona Sr HS (\"...</td>\n",
       "      <td>NaN</td>\n",
       "      <td>5.727040e+09</td>\n",
       "      <td>NaN</td>\n",
       "      <td>985</td>\n",
       "    </tr>\n",
       "    <tr>\n",
       "      <th>11</th>\n",
       "      <td>20620704132</td>\n",
       "      <td>N</td>\n",
       "      <td>182</td>\n",
       "      <td>5</td>\n",
       "      <td>Forfeit</td>\n",
       "      <td>For.</td>\n",
       "      <td>[winner] over [loser] ([wtAbbr])</td>\n",
       "      <td>6</td>\n",
       "      <td>0.0</td>\n",
       "      <td>2</td>\n",
       "      <td>...</td>\n",
       "      <td>NaN</td>\n",
       "      <td>NaN</td>\n",
       "      <td>N</td>\n",
       "      <td>20620704132</td>\n",
       "      <td>0</td>\n",
       "      <td>Jasper-Troupsburg vs. Campbell-Savona Sr HS (\"...</td>\n",
       "      <td>NaN</td>\n",
       "      <td>5.727040e+09</td>\n",
       "      <td>NaN</td>\n",
       "      <td>985</td>\n",
       "    </tr>\n",
       "    <tr>\n",
       "      <th>12</th>\n",
       "      <td>20620705132</td>\n",
       "      <td>N</td>\n",
       "      <td>195</td>\n",
       "      <td>15</td>\n",
       "      <td>Double Forfeit</td>\n",
       "      <td>DFF</td>\n",
       "      <td>[wtName]</td>\n",
       "      <td>0</td>\n",
       "      <td>0.0</td>\n",
       "      <td>NaN</td>\n",
       "      <td>...</td>\n",
       "      <td>NaN</td>\n",
       "      <td>NaN</td>\n",
       "      <td>N</td>\n",
       "      <td>20620705132</td>\n",
       "      <td>0</td>\n",
       "      <td>Jasper-Troupsburg vs. Campbell-Savona Sr HS (\"...</td>\n",
       "      <td>NaN</td>\n",
       "      <td>5.727040e+09</td>\n",
       "      <td>NaN</td>\n",
       "      <td>985</td>\n",
       "    </tr>\n",
       "    <tr>\n",
       "      <th>13</th>\n",
       "      <td>20620706132</td>\n",
       "      <td>N</td>\n",
       "      <td>220</td>\n",
       "      <td>15</td>\n",
       "      <td>Double Forfeit</td>\n",
       "      <td>DFF</td>\n",
       "      <td>[wtName]</td>\n",
       "      <td>0</td>\n",
       "      <td>0.0</td>\n",
       "      <td>NaN</td>\n",
       "      <td>...</td>\n",
       "      <td>NaN</td>\n",
       "      <td>NaN</td>\n",
       "      <td>N</td>\n",
       "      <td>20620706132</td>\n",
       "      <td>0</td>\n",
       "      <td>Jasper-Troupsburg vs. Campbell-Savona Sr HS (\"...</td>\n",
       "      <td>NaN</td>\n",
       "      <td>5.727040e+09</td>\n",
       "      <td>NaN</td>\n",
       "      <td>985</td>\n",
       "    </tr>\n",
       "    <tr>\n",
       "      <th>14</th>\n",
       "      <td>20620707132</td>\n",
       "      <td>N</td>\n",
       "      <td>285</td>\n",
       "      <td>1</td>\n",
       "      <td>Fall</td>\n",
       "      <td>Fall</td>\n",
       "      <td>[winner] over [loser] ([wtAbbr] [fallTime])</td>\n",
       "      <td>6</td>\n",
       "      <td>0.0</td>\n",
       "      <td>1</td>\n",
       "      <td>...</td>\n",
       "      <td>NaN</td>\n",
       "      <td>NaN</td>\n",
       "      <td>N</td>\n",
       "      <td>20620707132</td>\n",
       "      <td>0</td>\n",
       "      <td>Jasper-Troupsburg vs. Campbell-Savona Sr HS (\"...</td>\n",
       "      <td>NaN</td>\n",
       "      <td>5.727040e+09</td>\n",
       "      <td>NaN</td>\n",
       "      <td>985</td>\n",
       "    </tr>\n",
       "  </tbody>\n",
       "</table>\n",
       "<p>23349 rows × 46 columns</p>\n",
       "</div>"
      ],
      "text/plain": [
       "              0    1    2               3               4  \\\n",
       "0   21296605132  120    1            Fall            Fall   \n",
       "0   21296718132  138    2  Technical Fall              TF   \n",
       "1   21292884132  220    1            Fall            Fall   \n",
       "2   21288049132  220    4        Decision             Dec   \n",
       "0   21288364132  113    1            Fall            Fall   \n",
       "..          ...  ...  ...             ...             ...   \n",
       "10  20620703132    N  170              15  Double Forfeit   \n",
       "11  20620704132    N  182               5         Forfeit   \n",
       "12  20620705132    N  195              15  Double Forfeit   \n",
       "13  20620706132    N  220              15  Double Forfeit   \n",
       "14  20620707132    N  285               1            Fall   \n",
       "\n",
       "                                                    5  \\\n",
       "0         [winner] over [loser] ([wtAbbr] [fallTime])   \n",
       "0   [winner] over [loser] ([wtAbbr] [score] [fallT...   \n",
       "1         [winner] over [loser] ([wtAbbr] [fallTime])   \n",
       "2            [winner] over [loser] ([wtAbbr] [score])   \n",
       "0         [winner] over [loser] ([wtAbbr] [fallTime])   \n",
       "..                                                ...   \n",
       "10                                                DFF   \n",
       "11                                               For.   \n",
       "12                                                DFF   \n",
       "13                                                DFF   \n",
       "14                                               Fall   \n",
       "\n",
       "                                              6   7    8    9  ...   36   37  \\\n",
       "0                                             1   0  NaN  NaN  ...    N  NaN   \n",
       "0                                             1  16  NaN  NaN  ...    N  NaN   \n",
       "1                                             1   0  NaN  NaN  ...    N  NaN   \n",
       "2                                             2   1  NaN  NaN  ...    N  NaN   \n",
       "0                                             1   0  NaN  NaN  ...    N  NaN   \n",
       "..                                          ...  ..  ...  ...  ...  ...  ...   \n",
       "10                                     [wtName]   0  0.0  NaN  ...  NaN  NaN   \n",
       "11             [winner] over [loser] ([wtAbbr])   6  0.0    2  ...  NaN  NaN   \n",
       "12                                     [wtName]   0  0.0  NaN  ...  NaN  NaN   \n",
       "13                                     [wtName]   0  0.0  NaN  ...  NaN  NaN   \n",
       "14  [winner] over [loser] ([wtAbbr] [fallTime])   6  0.0    1  ...  NaN  NaN   \n",
       "\n",
       "   38                           39   40  \\\n",
       "0              [wtAbbr] [fallTime]  NaN   \n",
       "0      [wtAbbr] [score] [fallTime]  NaN   \n",
       "1              [wtAbbr] [fallTime]  NaN   \n",
       "2                 [wtAbbr] [score]  NaN   \n",
       "0              [wtAbbr] [fallTime]  NaN   \n",
       ".. ..                          ...  ...   \n",
       "10  N                  20620703132    0   \n",
       "11  N                  20620704132    0   \n",
       "12  N                  20620705132    0   \n",
       "13  N                  20620706132    0   \n",
       "14  N                  20620707132    0   \n",
       "\n",
       "                                                   41  \\\n",
       "0                                                   N   \n",
       "0                                                   N   \n",
       "1                                                   N   \n",
       "2                                                   N   \n",
       "0                                                   N   \n",
       "..                                                ...   \n",
       "10  Jasper-Troupsburg vs. Campbell-Savona Sr HS (\"...   \n",
       "11  Jasper-Troupsburg vs. Campbell-Savona Sr HS (\"...   \n",
       "12  Jasper-Troupsburg vs. Campbell-Savona Sr HS (\"...   \n",
       "13  Jasper-Troupsburg vs. Campbell-Savona Sr HS (\"...   \n",
       "14  Jasper-Troupsburg vs. Campbell-Savona Sr HS (\"...   \n",
       "\n",
       "                                 42            43  44 Event Order (1=newest)  \n",
       "0   PSAL-D1 WRESTLING CHAMPIONSHIPS  4.998201e+09 NaN                      1  \n",
       "0   PSAL-D1 WRESTLING CHAMPIONSHIPS  4.998201e+09 NaN                      2  \n",
       "1   PSAL-D1 WRESTLING CHAMPIONSHIPS  4.998201e+09 NaN                      2  \n",
       "2   PSAL-D1 WRESTLING CHAMPIONSHIPS  4.998201e+09 NaN                      2  \n",
       "0   PSAL-D1 WRESTLING CHAMPIONSHIPS  4.998201e+09 NaN                      3  \n",
       "..                              ...           ...  ..                    ...  \n",
       "10                              NaN  5.727040e+09 NaN                    985  \n",
       "11                              NaN  5.727040e+09 NaN                    985  \n",
       "12                              NaN  5.727040e+09 NaN                    985  \n",
       "13                              NaN  5.727040e+09 NaN                    985  \n",
       "14                              NaN  5.727040e+09 NaN                    985  \n",
       "\n",
       "[23349 rows x 46 columns]"
      ]
     },
     "execution_count": 7,
     "metadata": {},
     "output_type": "execute_result"
    }
   ],
   "source": [
    "all_match_data"
   ]
  },
  {
   "cell_type": "code",
   "execution_count": null,
   "metadata": {},
   "outputs": [],
   "source": []
  },
  {
   "cell_type": "code",
   "execution_count": 8,
   "metadata": {},
   "outputs": [],
   "source": [
    "all_match_data.to_csv('all_match_data.csv')"
   ]
  },
  {
   "cell_type": "code",
   "execution_count": 9,
   "metadata": {},
   "outputs": [],
   "source": [
    "# rows do not all line up, kinda sucks"
   ]
  },
  {
   "cell_type": "code",
   "execution_count": 10,
   "metadata": {},
   "outputs": [
    {
     "data": {
      "text/plain": [
       "(23349, 46)"
      ]
     },
     "execution_count": 10,
     "metadata": {},
     "output_type": "execute_result"
    }
   ],
   "source": [
    "# Original size of raw data\n",
    "all_match_data.shape"
   ]
  },
  {
   "cell_type": "code",
   "execution_count": 11,
   "metadata": {},
   "outputs": [
    {
     "data": {
      "text/plain": [
       "(23349, 46)"
      ]
     },
     "execution_count": 11,
     "metadata": {},
     "output_type": "execute_result"
    }
   ],
   "source": [
    "# Drop exactly duplicated rows (from webscraping process)\n",
    "# Note: Might be more duplicates that just aren't exact (from website setup), need to check further\n",
    "all_match_data.drop_duplicates(inplace=True)\n",
    "\n",
    "# Size after dropping duplicated rows\n",
    "all_match_data.shape"
   ]
  },
  {
   "cell_type": "code",
   "execution_count": 12,
   "metadata": {},
   "outputs": [],
   "source": [
    "# Define set of proper (i.e. integer) weight classes, which are first 15 unique values of col 1\n",
    "# Note: defined from weight classes existing in data, so technically possible to miss an official weight class\n",
    "weight_classes = set(all_match_data[1].unique()[:15])"
   ]
  },
  {
   "cell_type": "code",
   "execution_count": 13,
   "metadata": {},
   "outputs": [],
   "source": [
    "# Define set of improper (i.e. non-integer) weight classes, the other unique values of col 1\n",
    "alt_weight_classes = set(all_match_data[1].unique()[15:])"
   ]
  },
  {
   "cell_type": "code",
   "execution_count": 14,
   "metadata": {},
   "outputs": [],
   "source": [
    "# For now, filter table to only include rows with proper weight classes\n",
    "weight_filter = [x in weight_classes for x in all_match_data[1]]\n",
    "weight_filtered_data = all_match_data.loc[weight_filter,:]"
   ]
  },
  {
   "cell_type": "code",
   "execution_count": 15,
   "metadata": {},
   "outputs": [
    {
     "data": {
      "text/plain": [
       "(20618, 46)"
      ]
     },
     "execution_count": 15,
     "metadata": {},
     "output_type": "execute_result"
    }
   ],
   "source": [
    "# Data size after selecting only 'proper' weight classes\n",
    "weight_filtered_data.shape"
   ]
  },
  {
   "cell_type": "code",
   "execution_count": 16,
   "metadata": {},
   "outputs": [
    {
     "name": "stderr",
     "output_type": "stream",
     "text": [
      "C:\\Users\\colum\\Anaconda3\\envs\\webscraping\\lib\\site-packages\\pandas\\core\\frame.py:4130: SettingWithCopyWarning: \n",
      "A value is trying to be set on a copy of a slice from a DataFrame\n",
      "\n",
      "See the caveats in the documentation: https://pandas.pydata.org/pandas-docs/stable/user_guide/indexing.html#returning-a-view-versus-a-copy\n",
      "  errors=errors,\n"
     ]
    }
   ],
   "source": [
    "# Rename columns we know by inspection\n",
    "weight_filtered_data.rename(columns={1:\"Weight Class\", 3:\"Victory Type (L)\", 4:\"Victory Type (S)\",\n",
    "                         7:\"Winner Score\", 10:\"Loser Score\", 16:\"Winner First Name\",\n",
    "                         17:\"Winner Last Name\", 18:\"Winner School (L)\", 19:\"Winner School (S)\",\n",
    "                         20:\"Loser First Name\", 21:\"Loser Last Name\", 22:\"Loser School (L)\",\n",
    "                         23:\"Loser School (S)\", 29: \"Unknown (Seed?)\", 31:\"Round\", 42:\"Event Name\", 43:\"Event ID\"},\n",
    "                      inplace=True\n",
    "                    )"
   ]
  },
  {
   "cell_type": "code",
   "execution_count": 17,
   "metadata": {},
   "outputs": [
    {
     "name": "stderr",
     "output_type": "stream",
     "text": [
      "C:\\Users\\colum\\Anaconda3\\envs\\webscraping\\lib\\site-packages\\ipykernel_launcher.py:2: SettingWithCopyWarning: \n",
      "A value is trying to be set on a copy of a slice from a DataFrame.\n",
      "Try using .loc[row_indexer,col_indexer] = value instead\n",
      "\n",
      "See the caveats in the documentation: https://pandas.pydata.org/pandas-docs/stable/user_guide/indexing.html#returning-a-view-versus-a-copy\n",
      "  \n"
     ]
    }
   ],
   "source": [
    "# Ensure weight classes are cast as integers\n",
    "weight_filtered_data['Weight Class'] = [int(x) for x in weight_filtered_data['Weight Class']]"
   ]
  },
  {
   "cell_type": "code",
   "execution_count": 18,
   "metadata": {},
   "outputs": [
    {
     "name": "stderr",
     "output_type": "stream",
     "text": [
      "C:\\Users\\colum\\Anaconda3\\envs\\webscraping\\lib\\site-packages\\pandas\\core\\frame.py:3994: SettingWithCopyWarning: \n",
      "A value is trying to be set on a copy of a slice from a DataFrame\n",
      "\n",
      "See the caveats in the documentation: https://pandas.pydata.org/pandas-docs/stable/user_guide/indexing.html#returning-a-view-versus-a-copy\n",
      "  errors=errors,\n"
     ]
    }
   ],
   "source": [
    "# Dropping empty, redundant, and/or unintelligible columns (decided by inspection)\n",
    "drop_cols = [0,2,5,6,8,9,11,12,13,14,15,24,25,26,27,28,30,32,33,34,35,36,37,38,39,40,41,44]\n",
    "weight_filtered_data.drop(columns=drop_cols,inplace=True)"
   ]
  },
  {
   "cell_type": "code",
   "execution_count": 19,
   "metadata": {},
   "outputs": [],
   "source": [
    "# Reset index so matches now have unique IDs\n",
    "weight_filtered_data.reset_index(drop=True,inplace=True)"
   ]
  },
  {
   "cell_type": "code",
   "execution_count": 20,
   "metadata": {},
   "outputs": [
    {
     "name": "stderr",
     "output_type": "stream",
     "text": [
      "C:\\Users\\colum\\Anaconda3\\envs\\webscraping\\lib\\site-packages\\ipykernel_launcher.py:2: SettingWithCopyWarning: \n",
      "A value is trying to be set on a copy of a slice from a DataFrame.\n",
      "Try using .loc[row_indexer,col_indexer] = value instead\n",
      "\n",
      "See the caveats in the documentation: https://pandas.pydata.org/pandas-docs/stable/user_guide/indexing.html#returning-a-view-versus-a-copy\n",
      "  \n"
     ]
    }
   ],
   "source": [
    "# Fix Event ID to be string instead of float\n",
    "weight_filtered_data['Event ID'] = weight_filtered_data['Event ID'].astype(str).replace('\\.0', '', regex=True)"
   ]
  },
  {
   "cell_type": "code",
   "execution_count": 21,
   "metadata": {},
   "outputs": [
    {
     "name": "stderr",
     "output_type": "stream",
     "text": [
      "C:\\Users\\colum\\Anaconda3\\envs\\webscraping\\lib\\site-packages\\ipykernel_launcher.py:8: SettingWithCopyWarning: \n",
      "A value is trying to be set on a copy of a slice from a DataFrame.\n",
      "Try using .loc[row_indexer,col_indexer] = value instead\n",
      "\n",
      "See the caveats in the documentation: https://pandas.pydata.org/pandas-docs/stable/user_guide/indexing.html#returning-a-view-versus-a-copy\n",
      "  \n"
     ]
    }
   ],
   "source": [
    "### Clean name columns \n",
    "name_cols = ['Winner First Name','Winner Last Name','Loser First Name','Loser Last Name']\n",
    "\n",
    "for name in name_cols:\n",
    "    \n",
    "    col = weight_filtered_data[name]\n",
    "    col = [x.strip().title() if type(x)==str else x for x in col] # Removes extra whitespace, ensure proper capitalization\n",
    "    weight_filtered_data[name] = col"
   ]
  },
  {
   "cell_type": "code",
   "execution_count": 22,
   "metadata": {},
   "outputs": [
    {
     "name": "stderr",
     "output_type": "stream",
     "text": [
      "C:\\Users\\colum\\Anaconda3\\envs\\webscraping\\lib\\site-packages\\ipykernel_launcher.py:2: SettingWithCopyWarning: \n",
      "A value is trying to be set on a copy of a slice from a DataFrame.\n",
      "Try using .loc[row_indexer,col_indexer] = value instead\n",
      "\n",
      "See the caveats in the documentation: https://pandas.pydata.org/pandas-docs/stable/user_guide/indexing.html#returning-a-view-versus-a-copy\n",
      "  \n",
      "C:\\Users\\colum\\Anaconda3\\envs\\webscraping\\lib\\site-packages\\ipykernel_launcher.py:3: SettingWithCopyWarning: \n",
      "A value is trying to be set on a copy of a slice from a DataFrame.\n",
      "Try using .loc[row_indexer,col_indexer] = value instead\n",
      "\n",
      "See the caveats in the documentation: https://pandas.pydata.org/pandas-docs/stable/user_guide/indexing.html#returning-a-view-versus-a-copy\n",
      "  This is separate from the ipykernel package so we can avoid doing imports until\n"
     ]
    }
   ],
   "source": [
    "# Create full names for winners and losers from their cleaned first and last names\n",
    "weight_filtered_data['Winner Full Name'] = weight_filtered_data['Winner First Name'] + ' ' + weight_filtered_data['Winner Last Name']\n",
    "weight_filtered_data['Loser Full Name'] = weight_filtered_data['Loser First Name'] + ' ' + weight_filtered_data['Loser Last Name']"
   ]
  },
  {
   "cell_type": "code",
   "execution_count": 23,
   "metadata": {},
   "outputs": [],
   "source": [
    "# Save weight_filtered_data to csv file named MATCHES.csv\n",
    "weight_filtered_data.to_csv('MATCHES.csv') # Remember: currently only using rows with 'proper' weight classes"
   ]
  },
  {
   "cell_type": "code",
   "execution_count": null,
   "metadata": {},
   "outputs": [],
   "source": []
  },
  {
   "cell_type": "code",
   "execution_count": 24,
   "metadata": {},
   "outputs": [],
   "source": [
    "# union of winner/loser full names is set of all wrestlers in dataset\n",
    "wrestlers = set(weight_filtered_data['Winner Full Name']) | set(weight_filtered_data['Loser Full Name'])\n",
    "wrestlers = [x for x in wrestlers if x==x] # remove nan, convert to list"
   ]
  },
  {
   "cell_type": "code",
   "execution_count": 25,
   "metadata": {},
   "outputs": [],
   "source": [
    "# create infoscrape function that goes through dataset and collects desired info for each wrestler\n",
    "\n",
    "def infoscrape(fullname,df):\n",
    "    '''infoscrape function receives full name of wrestler and matches dataframe\n",
    "    and collects wrestler info from dataset'''\n",
    "\n",
    "    # Initialize values of interest\n",
    "    weight_class = 0\n",
    "    wins = 0\n",
    "    losses = 0\n",
    "    matches = 0\n",
    "    school = ''\n",
    "    school_code = ''\n",
    "    first_name = ''\n",
    "    last_name = ''\n",
    "    \n",
    "    # Find observations corresponding to wrestler name\n",
    "    win_id = df['Winner Full Name'] == fullname\n",
    "    loss_id = df['Loser Full Name'] == fullname\n",
    "    winning_matches = df.loc[win_id,:]\n",
    "    losing_matches = df.loc[loss_id,:]\n",
    "    \n",
    "    # Split full name\n",
    "    first_name, last_name = fullname.split(' ',1)\n",
    "    \n",
    "    # Counting stats (should check if names show in correct columns for forfeits, byes, etc.)\n",
    "    wins = sum(win_id)\n",
    "    losses = sum(loss_id)\n",
    "    matches = wins+losses\n",
    "    \n",
    "    # Extract weight class, school, etc.\n",
    "    win_weight = winning_matches['Weight Class'].unique()\n",
    "    loss_weight = losing_matches['Weight Class'].unique()\n",
    "    \n",
    "    if win_weight.size > 0: # Avoiding 'if win_weight:' because it gives truth amibiguity warning\n",
    "        weight_class = int(win_weight[0])\n",
    "    else: # !!!Still need to add consideration for multiple weight classes!!!\n",
    "        weight_class = int(loss_weight[0])\n",
    "        \n",
    "    win_school = winning_matches['Winner School (L)'].unique()\n",
    "    win_school_code = winning_matches['Winner School (S)'].unique()\n",
    "    loss_school = losing_matches['Loser School (L)'].unique()\n",
    "    loss_school_code = losing_matches['Loser School (S)'].unique()\n",
    "    \n",
    "    if win_school.size > 0: # Avoiding 'if win_school:' because it gives truth amibiguity warning\n",
    "        school = win_school[0]\n",
    "        school_code = win_school_code[0]\n",
    "    else: \n",
    "        school = loss_school[0]\n",
    "        school_code = loss_school_code[0]\n",
    "        \n",
    "    # Return list of extracted data \n",
    "    return({'First Name':first_name,'Last Name':last_name,'Full Name':fullname,\n",
    "            'School Name':school,'School Code':school_code,\n",
    "            'Weight Class':weight_class,'Wins':wins,'Losses':losses,'Matches':matches})"
   ]
  },
  {
   "cell_type": "code",
   "execution_count": 26,
   "metadata": {},
   "outputs": [],
   "source": [
    "# Construct wrestler dataframe (takes a minute)\n",
    "wrestler_data = [infoscrape(wrestler,weight_filtered_data) for wrestler in wrestlers]\n",
    "WRESTLERS = pd.DataFrame(wrestler_data)"
   ]
  },
  {
   "cell_type": "code",
   "execution_count": 27,
   "metadata": {},
   "outputs": [],
   "source": [
    "# Save WRESTLERS to csv file named WRESTLERS.csv\n",
    "WRESTLERS.to_csv('WRESTLERS.csv')"
   ]
  },
  {
   "cell_type": "code",
   "execution_count": null,
   "metadata": {},
   "outputs": [],
   "source": []
  },
  {
   "cell_type": "code",
   "execution_count": null,
   "metadata": {},
   "outputs": [],
   "source": []
  },
  {
   "cell_type": "code",
   "execution_count": null,
   "metadata": {},
   "outputs": [],
   "source": []
  }
 ],
 "metadata": {
  "kernelspec": {
   "display_name": "Python 3",
   "language": "python",
   "name": "python3"
  },
  "language_info": {
   "codemirror_mode": {
    "name": "ipython",
    "version": 3
   },
   "file_extension": ".py",
   "mimetype": "text/x-python",
   "name": "python",
   "nbconvert_exporter": "python",
   "pygments_lexer": "ipython3",
   "version": "3.7.6"
  }
 },
 "nbformat": 4,
 "nbformat_minor": 4
}
